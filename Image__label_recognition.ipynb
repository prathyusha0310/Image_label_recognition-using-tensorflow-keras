{
  "nbformat": 4,
  "nbformat_minor": 0,
  "metadata": {
    "colab": {
      "name": "Image _label_recognition.ipynb",
      "provenance": [],
      "collapsed_sections": [],
      "include_colab_link": true
    },
    "kernelspec": {
      "name": "python3",
      "display_name": "Python 3"
    }
  },
  "cells": [
    {
      "cell_type": "markdown",
      "metadata": {
        "id": "view-in-github",
        "colab_type": "text"
      },
      "source": [
        "<a href=\"https://colab.research.google.com/github/prathyusha0310/Image_label_recognition-using-tensorflow-keras/blob/master/Image__label_recognition.ipynb\" target=\"_parent\"><img src=\"https://colab.research.google.com/assets/colab-badge.svg\" alt=\"Open In Colab\"/></a>"
      ]
    },
    {
      "cell_type": "code",
      "metadata": {
        "id": "8a5jDUFrZ0H7",
        "colab_type": "code",
        "colab": {
          "base_uri": "https://localhost:8080/",
          "height": 79
        },
        "outputId": "16961599-9ac7-4e12-f6fc-95a758ead63c"
      },
      "source": [
        "import tensorflow as tf\n",
        "print(tf.__version__)"
      ],
      "execution_count": null,
      "outputs": [
        {
          "output_type": "display_data",
          "data": {
            "text/html": [
              "<p style=\"color: red;\">\n",
              "The default version of TensorFlow in Colab will soon switch to TensorFlow 2.x.<br>\n",
              "We recommend you <a href=\"https://www.tensorflow.org/guide/migrate\" target=\"_blank\">upgrade</a> now \n",
              "or ensure your notebook will continue to use TensorFlow 1.x via the <code>%tensorflow_version 1.x</code> magic:\n",
              "<a href=\"https://colab.research.google.com/notebooks/tensorflow_version.ipynb\" target=\"_blank\">more info</a>.</p>\n"
            ],
            "text/plain": [
              "<IPython.core.display.HTML object>"
            ]
          },
          "metadata": {
            "tags": []
          }
        },
        {
          "output_type": "stream",
          "text": [
            "1.15.0\n"
          ],
          "name": "stdout"
        }
      ]
    },
    {
      "cell_type": "code",
      "metadata": {
        "id": "wLNBapVeajNw",
        "colab_type": "code",
        "colab": {}
      },
      "source": [
        "mnist=tf.keras.datasets.fashion_mnist\n"
      ],
      "execution_count": null,
      "outputs": []
    },
    {
      "cell_type": "code",
      "metadata": {
        "id": "ZXZBfJf4a1Wf",
        "colab_type": "code",
        "colab": {
          "base_uri": "https://localhost:8080/",
          "height": 151
        },
        "outputId": "80e9361c-1b77-49d1-aa7a-20faac7185f5"
      },
      "source": [
        "(training_images,training_labels), (test_images,test_labels) = mnist.load_data()"
      ],
      "execution_count": null,
      "outputs": [
        {
          "output_type": "stream",
          "text": [
            "Downloading data from https://storage.googleapis.com/tensorflow/tf-keras-datasets/train-labels-idx1-ubyte.gz\n",
            "32768/29515 [=================================] - 0s 0us/step\n",
            "Downloading data from https://storage.googleapis.com/tensorflow/tf-keras-datasets/train-images-idx3-ubyte.gz\n",
            "26427392/26421880 [==============================] - 0s 0us/step\n",
            "Downloading data from https://storage.googleapis.com/tensorflow/tf-keras-datasets/t10k-labels-idx1-ubyte.gz\n",
            "8192/5148 [===============================================] - 0s 0us/step\n",
            "Downloading data from https://storage.googleapis.com/tensorflow/tf-keras-datasets/t10k-images-idx3-ubyte.gz\n",
            "4423680/4422102 [==============================] - 0s 0us/step\n"
          ],
          "name": "stdout"
        }
      ]
    },
    {
      "cell_type": "code",
      "metadata": {
        "id": "cwoN3wtqbfc6",
        "colab_type": "code",
        "colab": {
          "base_uri": "https://localhost:8080/",
          "height": 1000
        },
        "outputId": "c6026ef0-4479-4dc6-a606-10fa0d96b539"
      },
      "source": [
        "import matplotlib.pyplot as plt\n",
        "plt.imshow(training_images[58100])\n",
        "print(training_labels[58100])\n",
        "print(training_images[58100])\n"
      ],
      "execution_count": null,
      "outputs": [
        {
          "output_type": "stream",
          "text": [
            "1\n",
            "[[  0   0   0   0   0   0   0   0   0  85 240 197 206 194 197 183 194 205\n",
            "  226   0   0   0   0   0   0   0   0   0]\n",
            " [  0   0   0   0   0   0   0   0   0 195 247 234 245 243 243 231 234 231\n",
            "  255  39   0   0   0   0   0   0   0   0]\n",
            " [  0   0   0   0   0   0   0   0   0 233 238 223 226 223 227 228 223 219\n",
            "  255 100   0   0   0   0   0   0   0   0]\n",
            " [  0   0   0   0   0   0   0   0   0 243 236 228 230 227 231 232 227 218\n",
            "  255 137   0   0   0   0   0   0   0   0]\n",
            " [  0   0   0   0   0   0   0   0   0 255 232 230 228 230 233 231 230 220\n",
            "  255 158   0   0   0   0   0   0   0   0]\n",
            " [  0   0   0   0   0   0   0   0   0 255 231 232 226 235 235 231 232 219\n",
            "  249 167   0   0   0   0   0   0   0   0]\n",
            " [  0   0   0   0   0   0   0   0   0 255 231 230 230 238 229 229 231 225\n",
            "  247 181   0   0   0   0   0   0   0   0]\n",
            " [  0   0   0   0   0   0   0   0   0 255 232 234 236 234 237 227 235 234\n",
            "  241 195   0   0   0   0   0   0   0   0]\n",
            " [  0   0   0   0   0   0   0   0   0 248 234 229 228 231 252 241 221 228\n",
            "  242 181   0   0   0   0   0   0   0   0]\n",
            " [  0   0   0   0   0   0   0   0   0 236 238 220 226 249 126 255 231 220\n",
            "  248 168   0   0   0   0   0   0   0   0]\n",
            " [  0   0   0   0   0   0   0   0   0 220 238 224 241 255  17 255 235 222\n",
            "  254 166   0   0   0   0   0   0   0   0]\n",
            " [  0   0   0   0   0   0   0   0   0 205 239 225 248 233   0 255 245 218\n",
            "  255 157   0   0   0   0   0   0   0   0]\n",
            " [  0   0   0   0   0   0   0   0   0 173 244 223 255 217   0 222 255 223\n",
            "  255 147   0   0   0   0   0   0   0   0]\n",
            " [  0   0   0   0   0   0   0   0   0 156 246 221 246 209   0 191 248 222\n",
            "  255 121   0   0   0   0   0   0   0   0]\n",
            " [  0   0   0   0   0   0   0   0   0 142 247 221 250 143   0 166 252 221\n",
            "  255  96   0   0   0   0   0   0   0   0]\n",
            " [  0   0   0   0   0   0   0   0   0 130 247 221 250  78   0 114 249 221\n",
            "  255  88   0   0   0   0   0   0   0   0]\n",
            " [  0   0   0   0   0   0   0   0   0 123 246 219 248  75   0  73 248 223\n",
            "  255  82   0   0   0   0   0   0   0   0]\n",
            " [  0   0   0   0   0   0   0   0   0 113 246 221 244  58   0  47 249 222\n",
            "  255  98   0   0   0   0   0   0   0   0]\n",
            " [  0   0   0   0   0   0   0   0   0 117 247 224 239  30   0  25 242 227\n",
            "  255 108   0   0   0   0   0   0   0   0]\n",
            " [  0   0   0   0   0   0   0   0   0 114 249 228 227   0   0   0 255 233\n",
            "  255 117   0   0   0   0   0   0   0   0]\n",
            " [  0   0   0   0   0   0   0   0   0  92 249 229 226   0   0   0 232 237\n",
            "  237 119   0   0   0   0   0   0   0   0]\n",
            " [  0   0   0   0   0   0   0   0   0  87 246 227 222   0   0   0 229 236\n",
            "  238 126   0   0   0   0   0   0   0   0]\n",
            " [  0   0   0   0   0   0   0   0   0  80 245 227 222   0   0   0 215 238\n",
            "  238 118   0   0   0   0   0   0   0   0]\n",
            " [  0   0   0   0   0   0   0   0   0  70 244 230 219   0   0   0 187 240\n",
            "  237 111   0   0   0   0   0   0   0   0]\n",
            " [  0   0   0   0   0   0   0   0   0  67 242 232 209   0   0   0 153 244\n",
            "  237 110   0   0   0   0   0   0   0   0]\n",
            " [  0   0   0   0   0   0   0   0   0  48 238 233 201   0   0   0 139 244\n",
            "  236 104   0   0   0   0   0   0   0   0]\n",
            " [  0   0   0   0   0   0   0   0   0  42 244 240 201   0   0   0 153 249\n",
            "  238 115   0   0   0   0   0   0   0   0]\n",
            " [  0   0   0   0   0   0   0   0   0   8 202 218 148   0   0   0 100 229\n",
            "  217  86   0   0   0   0   0   0   0   0]]\n"
          ],
          "name": "stdout"
        },
        {
          "output_type": "display_data",
          "data": {
            "image/png": "[encoded data removed]",
            "text/plain": [
              "<Figure size 432x288 with 1 Axes>"
            ]
          },
          "metadata": {
            "tags": []
          }
        }
      ]
    },
    {
      "cell_type": "code",
      "metadata": {
        "id": "lL9nUE5Zf-et",
        "colab_type": "code",
        "colab": {}
      },
      "source": [
        "training_images  = training_images / 255.0\n",
        "test_images = test_images / 255.0\n"
      ],
      "execution_count": null,
      "outputs": []
    },
    {
      "cell_type": "code",
      "metadata": {
        "id": "7mAyndG3kVlK",
        "colab_type": "code",
        "colab": {}
      },
      "source": [
        "model = tf.keras.models.Sequential([tf.keras.layers.Flatten(), \n",
        "                                    tf.keras.layers.Dense(128, activation=tf.nn.relu), \n",
        "                                    tf.keras.layers.Dense(10, activation=tf.nn.softmax)])"
      ],
      "execution_count": null,
      "outputs": []
    },
    {
      "cell_type": "code",
      "metadata": {
        "id": "8y2VNFYqi41i",
        "colab_type": "code",
        "colab": {
          "base_uri": "https://localhost:8080/",
          "height": 289
        },
        "outputId": "84a94524-e9d9-4baa-8fb8-920bdf287a11"
      },
      "source": [
        "model.compile(optimizer = tf.train.AdamOptimizer(),\n",
        "              loss = 'sparse_categorical_crossentropy',\n",
        "              metrics=['accuracy'])\n",
        "\n",
        "model.fit(training_images, training_labels, epochs=5)"
      ],
      "execution_count": null,
      "outputs": [
        {
          "output_type": "stream",
          "text": [
            "WARNING:tensorflow:From /usr/local/lib/python3.6/dist-packages/tensorflow_core/python/ops/resource_variable_ops.py:1630: calling BaseResourceVariable.__init__ (from tensorflow.python.ops.resource_variable_ops) with constraint is deprecated and will be removed in a future version.\n",
            "Instructions for updating:\n",
            "If using Keras pass *_constraint arguments to layers.\n",
            "Train on 60000 samples\n",
            "Epoch 1/5\n",
            "60000/60000 [==============================] - 4s 73us/sample - loss: 2.3026 - acc: 0.0998\n",
            "Epoch 2/5\n",
            "60000/60000 [==============================] - 4s 66us/sample - loss: 2.3008 - acc: 0.1133\n",
            "Epoch 3/5\n",
            "60000/60000 [==============================] - 4s 66us/sample - loss: 2.2951 - acc: 0.1414\n",
            "Epoch 4/5\n",
            "60000/60000 [==============================] - 4s 65us/sample - loss: 2.2838 - acc: 0.1767\n",
            "Epoch 5/5\n",
            "60000/60000 [==============================] - 4s 65us/sample - loss: 2.2668 - acc: 0.2031\n"
          ],
          "name": "stdout"
        },
        {
          "output_type": "execute_result",
          "data": {
            "text/plain": [
              "<tensorflow.python.keras.callbacks.History at 0x7f6cefbf26d8>"
            ]
          },
          "metadata": {
            "tags": []
          },
          "execution_count": 20
        }
      ]
    },
    {
      "cell_type": "code",
      "metadata": {
        "id": "WzlqsEzX9s5P",
        "colab_type": "code",
        "colab": {
          "base_uri": "https://localhost:8080/",
          "height": 50
        },
        "outputId": "0f306101-194c-4665-f45f-3504f937da3a"
      },
      "source": [
        "model.evaluate(test_images, test_labels)"
      ],
      "execution_count": null,
      "outputs": [
        {
          "output_type": "stream",
          "text": [
            "10000/10000 [==============================] - 0s 35us/sample - loss: 2.2564 - acc: 0.2090\n"
          ],
          "name": "stdout"
        },
        {
          "output_type": "execute_result",
          "data": {
            "text/plain": [
              "[2.2563760955810546, 0.209]"
            ]
          },
          "metadata": {
            "tags": []
          },
          "execution_count": 22
        }
      ]
    },
    {
      "cell_type": "code",
      "metadata": {
        "id": "O2phlWz4kU2L",
        "colab_type": "code",
        "colab": {
          "base_uri": "https://localhost:8080/",
          "height": 50
        },
        "outputId": "49573a3f-5b84-4264-887e-efadd6969519"
      },
      "source": [
        "classifications = model.predict(test_images)\n",
        "\n",
        "print(classifications[0])"
      ],
      "execution_count": null,
      "outputs": [
        {
          "output_type": "stream",
          "text": [
            "[0.09055055 0.09523302 0.09457339 0.09350686 0.0937856  0.10871202\n",
            " 0.09625372 0.11033771 0.10646633 0.11058087]\n"
          ],
          "name": "stdout"
        }
      ]
    },
    {
      "cell_type": "code",
      "metadata": {
        "id": "o4axabGckpeU",
        "colab_type": "code",
        "colab": {
          "base_uri": "https://localhost:8080/",
          "height": 34
        },
        "outputId": "9c76cdae-68c0-4c13-c541-b46979c5b1ff"
      },
      "source": [
        "print(test_labels[0])"
      ],
      "execution_count": null,
      "outputs": [
        {
          "output_type": "stream",
          "text": [
            "9\n"
          ],
          "name": "stdout"
        }
      ]
    }
  ]
}